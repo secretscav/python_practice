{
 "cells": [
  {
   "cell_type": "code",
   "execution_count": 2,
   "metadata": {},
   "outputs": [
    {
     "name": "stdout",
     "output_type": "stream",
     "text": [
      "1\n",
      "3\n",
      "5\n",
      "7\n",
      "9\n",
      "11\n",
      "13\n",
      "15\n",
      "17\n",
      "19\n",
      "21\n"
     ]
    }
   ],
   "source": [
    "import os\n",
    "import itertools\n",
    "import inspect\n",
    "\n",
    "# definition for modified not eficient range function\n",
    "def _range(first:int, second:int=None, step:int=None) -> complex:\n",
    "    if second is None:\n",
    "        starting_point = 0\n",
    "        value = first\n",
    "        Step = 1\n",
    "    else:\n",
    "        starting_point = first\n",
    "        value = second\n",
    "        if step is None:\n",
    "            Step = 1\n",
    "        else:\n",
    "            Step = step\n",
    "        \n",
    "    first_point = starting_point\n",
    "    while first_point < value:\n",
    "        yield first_point\n",
    "        first_point += Step\n",
    "\n",
    "\n",
    "for item in _range(23):\n",
    "    if item % 2 == 1:\n",
    "        print(item)"
   ]
  },
  {
   "cell_type": "code",
   "execution_count": 18,
   "metadata": {},
   "outputs": [
    {
     "name": "stdout",
     "output_type": "stream",
     "text": [
      "beginning\n",
      "ending\n",
      "innerMost function\n",
      "5\n",
      " @@@@@@@@ \n",
      "beginning\n",
      "ending\n",
      "innerMost function\n",
      "THIS IS PYTHON DECORATOR\n",
      " @@@@@@@@ \n"
     ]
    }
   ],
   "source": [
    "# python decorators\n",
    "def Decorators(func):\n",
    "    def Inner():\n",
    "        print(\"beginning\")\n",
    "        function = func\n",
    "        print(\"ending\")\n",
    "        def innerMost(*args, **kwargs):\n",
    "            print(\"innerMost function\")\n",
    "            result = function(*args, **kwargs)\n",
    "            print(\" @@@@@@@@ \")\n",
    "            return result\n",
    "        return innerMost\n",
    "    return Inner\n",
    "\n",
    "\n",
    "@ Decorators\n",
    "def First(val1:int, val2:int):\n",
    "    print(f\"{val1 + val2}\")\n",
    "\n",
    "@Decorators\n",
    "def Second(string:str):\n",
    "    print(string.upper())\n",
    "\n",
    "\n",
    "first = First()\n",
    "first(2, 3)\n",
    "second = Second()\n",
    "second(\"this is python decorator\")"
   ]
  },
  {
   "cell_type": "code",
   "execution_count": 34,
   "metadata": {},
   "outputs": [
    {
     "name": "stdout",
     "output_type": "stream",
     "text": [
      "Hello, SECRETSCAV, may be you understand python decorators\n"
     ]
    }
   ],
   "source": [
    "# python multiple decorators (chaining decorators)\n",
    "\n",
    "# for greetings\n",
    "def greetingIntegration(func:object) -> object:\n",
    "    def inner():\n",
    "        result = func()\n",
    "        return f\"Hello, {result}, may be you understand python decorators\"\n",
    "    return inner\n",
    "\n",
    "# for names\n",
    "def Name(func:object) -> object:\n",
    "    def inner():\n",
    "        result = func()\n",
    "        return result.upper()\n",
    "    return inner\n",
    "\n",
    "@greetingIntegration\n",
    "@Name\n",
    "def user():\n",
    "    userName = input(\"Enter your name: \")\n",
    "    return userName\n",
    "\n",
    "print(user())"
   ]
  },
  {
   "cell_type": "code",
   "execution_count": 57,
   "metadata": {},
   "outputs": [
    {
     "name": "stdout",
     "output_type": "stream",
     "text": [
      "{'__module__': '__main__', '__qualname__': 'Mamals', 'NAME': 'john', 'TITLE': 'Doe', 'NATIONALITY': 'indian', '__init__': <function Mamals.__init__ at 0x7f9730364ee0>, 'GREETINGS': <function Mamals.greetings at 0x7f97303645e0>, 'OBJGREETINGS': <function Mamals.objGreetings at 0x7f97303640d0>}\n",
      "Hello, john Doe indian\n",
      "john\n"
     ]
    }
   ],
   "source": [
    "# python metaclass creation\n",
    "class Metaclass(type):\n",
    "    \n",
    "    def __new__(self, class_name, bases, attrs):\n",
    "        # print(attrs)\n",
    "        emptyDict = {}\n",
    "        for key, value in attrs.items():\n",
    "            if key.startswith(\"__\"):\n",
    "                emptyDict[key] = value\n",
    "            else:\n",
    "                emptyDict[key.upper()] = value\n",
    "        print(emptyDict)\n",
    "        return type(class_name, bases, emptyDict)\n",
    "\n",
    "    \n",
    "class Mamals(metaclass=Metaclass):\n",
    "    name = \"john\"\n",
    "    title = \"Doe\"\n",
    "    nationality =\"indian\"\n",
    "    def __init__(self,firstName:str, lastName:str ) -> str:\n",
    "        self.firstName = firstName\n",
    "        self.lastName =lastName\n",
    "\n",
    "\n",
    "    def greetings(self):\n",
    "        print(f\"Hello, {Mamals.NAME} {Mamals.TITLE} {Mamals.NATIONALITY}\")\n",
    "\n",
    "    def objGreetings(self):\n",
    "        print(f\"Hello, {self.firstName} {self.lastName}\")\n",
    "\n",
    "\n",
    "person = Mamals(\"cherry\", \"johnson\")\n",
    "person.GREETINGS()\n",
    "print(Mamals.NAME)"
   ]
  },
  {
   "cell_type": "code",
   "execution_count": 3,
   "metadata": {},
   "outputs": [
    {
     "name": "stdout",
     "output_type": "stream",
     "text": [
      "[['p' '' '' '' '' '']\n",
      " ['' 'y' '' '' '' '']\n",
      " ['' '' 't' '' '' '']\n",
      " ['' '' '' 'h' '' '']\n",
      " ['' '' '' '' 'o' '']\n",
      " ['' '' '' '' '' 'n']]\n"
     ]
    }
   ],
   "source": [
    "import numpy as np\n",
    "diagArray = np.diag([x for x in \"python\"])\n",
    "print(diagArray)"
   ]
  }
 ],
 "metadata": {
  "kernelspec": {
   "display_name": "Python 3.8.13 64-bit ('3.8.13')",
   "language": "python",
   "name": "python3"
  },
  "language_info": {
   "codemirror_mode": {
    "name": "ipython",
    "version": 3
   },
   "file_extension": ".py",
   "mimetype": "text/x-python",
   "name": "python",
   "nbconvert_exporter": "python",
   "pygments_lexer": "ipython3",
   "version": "3.8.13"
  },
  "orig_nbformat": 4,
  "vscode": {
   "interpreter": {
    "hash": "110cc1dee26208153f2972f08a2ad52b6a56238dc66d48e87fb757ef2996db56"
   }
  }
 },
 "nbformat": 4,
 "nbformat_minor": 2
}
