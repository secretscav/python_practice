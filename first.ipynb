{
 "cells": [
  {
   "cell_type": "code",
   "execution_count": 1,
   "metadata": {},
   "outputs": [
    {
     "name": "stdout",
     "output_type": "stream",
     "text": [
      "1\n",
      "3\n",
      "5\n",
      "7\n",
      "9\n",
      "11\n",
      "13\n",
      "15\n",
      "17\n",
      "19\n",
      "21\n"
     ]
    }
   ],
   "source": [
    "import os\n",
    "import itertools\n",
    "import inspect\n",
    "\n",
    "# definition for modified not eficient range function\n",
    "def _range(first:int, second:int=None, step:int=None) -> complex:\n",
    "    if second is None:\n",
    "        starting_point = 0\n",
    "        value = first\n",
    "        Step = 1\n",
    "    else:\n",
    "        starting_point = first\n",
    "        value = second\n",
    "        if step is None:\n",
    "            Step = 1\n",
    "        else:\n",
    "            Step = step\n",
    "        \n",
    "    first_point = starting_point\n",
    "    while first_point < value:\n",
    "        yield first_point\n",
    "        first_point += Step\n",
    "\n",
    "\n",
    "for item in _range(23):\n",
    "    if item % 2 == 1:\n",
    "        print(item)"
   ]
  },
  {
   "cell_type": "code",
   "execution_count": null,
   "metadata": {},
   "outputs": [],
   "source": []
  }
 ],
 "metadata": {
  "kernelspec": {
   "display_name": "Python 3.8.13 64-bit ('3.8.13')",
   "language": "python",
   "name": "python3"
  },
  "language_info": {
   "codemirror_mode": {
    "name": "ipython",
    "version": 3
   },
   "file_extension": ".py",
   "mimetype": "text/x-python",
   "name": "python",
   "nbconvert_exporter": "python",
   "pygments_lexer": "ipython3",
   "version": "3.8.13"
  },
  "orig_nbformat": 4,
  "vscode": {
   "interpreter": {
    "hash": "110cc1dee26208153f2972f08a2ad52b6a56238dc66d48e87fb757ef2996db56"
   }
  }
 },
 "nbformat": 4,
 "nbformat_minor": 2
}
